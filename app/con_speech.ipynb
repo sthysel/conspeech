{
 "cells": [
  {
   "cell_type": "markdown",
   "metadata": {},
   "source": [
    "#Political Speech Generator"
   ]
  },
  {
   "cell_type": "markdown",
   "metadata": {},
   "source": [
    "Author: Valentin Kassarnig <br>\n",
    "Email: valentin.kassarnig@gmail.com\n"
   ]
  },
  {
   "cell_type": "code",
   "execution_count": 1,
   "metadata": {
    "collapsed": false
   },
   "outputs": [
    {
     "name": "stdout",
     "output_type": "stream",
     "text": [
      "[constructing dataset...]\n",
      "[dataset constructed.]\n",
      "tokens 24938\n",
      "speeches 2771\n"
     ]
    }
   ],
   "source": [
    "import con_util\n",
    "reload(con_util)\n",
    "from con_util import *\n",
    "import os\n",
    "\n",
    "# Dataset from http://www.cs.cornell.edu/home/llee/data/convote.html\n",
    "PATH_TO_DATA = 'convote_v1.1\\data_stage_three'\n",
    "TRAIN_DIR = os.path.join(PATH_TO_DATA, \"training_set\")\n",
    "TEST_DIR = os.path.join(PATH_TO_DATA, \"test_set\")\n",
    "DEV_DIR = os.path.join(PATH_TO_DATA, \"development_set\")\n",
    "\n",
    "\n",
    "(dataset,vocab) = construct_dataset([TRAIN_DIR,TEST_DIR,DEV_DIR])\n",
    "\n",
    "print \"tokens\",len(vocab)\n",
    "print \"speeches\",sum([len(x) for x in dataset.values()])\n",
    "\n",
    "class_words = get_class_words(dataset)"
   ]
  },
  {
   "cell_type": "code",
   "execution_count": 3,
   "metadata": {
    "collapsed": false,
    "scrolled": true
   },
   "outputs": [
    {
     "name": "stdout",
     "output_type": "stream",
     "text": [
      "DY\n",
      "cell research enhancement\n",
      "research enhancement act\n",
      "spinal cord\n",
      "vitro fertilization\n",
      "clean coal\n",
      "stem cell\n",
      "air national guard\n",
      "human embryonic stem\n",
      "stem cell research\n",
      "heart disease\n",
      "medical research\n",
      "embryonic stem cell\n",
      "federal funding\n",
      "embryonic stem\n",
      "critical habitat\n",
      "cord blood\n",
      "free trade agreement\n",
      "nation's history\n",
      "adult stem\n",
      "middle east\n",
      "sickle cell\n",
      "title vii\n",
      "gentleman from delaware\n",
      "brac commission\n",
      "energy and water\n",
      "brac process\n",
      "clean air\n",
      "adult stem cell\n",
      "affordable housing\n",
      "health care system\n",
      "DN\n",
      "school of law\n",
      "cbc alternative\n",
      "cbc budget\n",
      "cbc alternative budget\n",
      "professor of law\n",
      "republican budget\n",
      "gun industry\n",
      "big oil\n",
      "judicial conference\n",
      "employment service\n",
      "democratic alternative\n",
      "middle class\n",
      "social security trust\n",
      "republican party\n",
      "republican bill\n",
      "bald eagle\n",
      "security trust fund\n",
      "minimum wage\n",
      "republican leadership\n",
      "house republican\n",
      "strong opposition\n",
      "war in iraq\n",
      "congressional black\n",
      "republican majority\n",
      "tax break\n",
      "national debt\n",
      "fiscal responsibility\n",
      "today in opposition\n",
      "maximum pell grant\n",
      "social security\n",
      "RY\n",
      "death tax repeal\n",
      "head start program\n",
      "public law\n",
      "death tax\n",
      "budget request\n",
      "community protection\n",
      "community protection act\n",
      "gang deterrence\n",
      "democrat substitute\n",
      "federal jurisdiction\n",
      "committee on homeland\n",
      "deterrence and community\n",
      "chairman sensenbrenner\n",
      "lawsuit abuse\n",
      "personal injury\n",
      "bankruptcy abuse\n",
      "chinese government\n",
      "pension protection act\n",
      "commission report\n",
      "chamber of commerce\n",
      "san diego\n",
      "pension protection\n",
      "sex offender\n",
      "good bill\n",
      "tax relief\n",
      "mandatory spending\n",
      "global war\n",
      "chairman for yielding\n",
      "consumer protection act\n",
      "driver's license\n",
      "RN\n",
      "inner cell\n",
      "inner cell mass\n",
      "human embryo\n",
      "human life\n",
      "adult stem cell\n",
      "world trade organization\n",
      "adult stem\n",
      "world trade\n",
      "sickle cell\n",
      "associate professor\n",
      "embryonic stem\n",
      "gentleman from maryland\n",
      "umbilical cord blood\n",
      "embryonic stem cell\n",
      "umbilical cord\n",
      "federal funding\n",
      "stem cell research\n",
      "rule of law\n",
      "central american\n",
      "brac process\n",
      "stem cell\n",
      "cord blood\n",
      "central america\n",
      "bone marrow\n",
      "base bill\n",
      "human embryonic stem\n",
      "time of war\n",
      "federal money\n",
      "security council\n",
      "air force\n"
     ]
    }
   ],
   "source": [
    "import pickle\n",
    "\n",
    "#jk = jk_pos_tag_filter(dataset)\n",
    "#pickle.dump( jk, open( \"jk.p\", \"wb\" ) )\n",
    "jk = pickle.load( open( \"jk.p\", \"rb\" ) )\n",
    "\n",
    "jk_trend = get_jk_trend(jk,print_n=30)"
   ]
  },
  {
   "cell_type": "code",
   "execution_count": 4,
   "metadata": {
    "collapsed": false
   },
   "outputs": [
    {
     "name": "stdout",
     "output_type": "stream",
     "text": [
      "DN 487396\n",
      "RN 80952\n",
      "RY 446941\n",
      "DY 99824\n"
     ]
    }
   ],
   "source": [
    "ngram_probs = get_n_gram_probs(dataset,n=6)"
   ]
  },
  {
   "cell_type": "code",
   "execution_count": null,
   "metadata": {
    "collapsed": true
   },
   "outputs": [],
   "source": [
    "# Only first time\n",
    "#create_corpus_pos_tags(dataset)"
   ]
  },
  {
   "cell_type": "code",
   "execution_count": 7,
   "metadata": {
    "collapsed": false,
    "scrolled": true
   },
   "outputs": [
    {
     "name": "stdout",
     "output_type": "stream",
     "text": [
      "__START__ mr. speaker , the gentleman from georgia and i are on the committee on rules that his state is impacted by virtue of education formulas .\n",
      "i do not disagree with what the gentleman says , but i find it curious that the leadership of the house will not even allow democrats the opportunity to offer a substitute and have a straight up-or-down vote on it .\n",
      "is that asking too much .\n",
      "the republicans say it is .\n",
      "so a yes vote on the motion to recommit we address two other abuses of power that should be addressed in this bill .\n",
      "one is what i will call the tauzin rule , and the democratic motion to commit would forbid a member of congress to negotiate with an outside entity that has business before his or her committee and before the congress , in the current congress or in a previous congress , called the tauzin rule because mr. tauzin , who managed the medicare bill , was at the time being courted by the pharmaceutical industry which was to benefit from provisions in the prescription drug bill under medicare .\n",
      "this is yet again another example of republicans being the handmaidens of the pharmaceutical industry .\n",
      "this bill also runs counter to the principles of federalism that my colleagues on the other side of our oceans .\n",
      "the wild horse is an icon of american history .\n",
      "the gentleman from iowa asked what is the difference between a bald eagle and a pigeon or a turkey .\n",
      "and if you do not know the difference , we can not explain it to you .\n",
      "shakespeare once said that `` horses are as full of spirit as the month of may and as gorgeous as the sun in midsummer '' .\n",
      "does everything have to be converted to the bottom line .\n",
      "there are so many things we could be doing rather than selling these beautiful creatures for horse meat .\n",
      "we are not just about dollars and cents .\n",
      "we are about the things that made our country great .\n",
      "the wild horse is one of those things we emphasize and plus-up .\n",
      "__END__\n"
     ]
    }
   ],
   "source": [
    "import con_util\n",
    "reload(con_util)\n",
    "from con_util import *\n",
    "\n",
    "lambd = 0.25\n",
    "speech_class = 'DN'\n",
    "\n",
    "gen_sp =  generate_speech_wba(dataset,ngram_probs,None,None,jk_trend,jk,speech_class,lamb=lambd)"
   ]
  },
  {
   "cell_type": "code",
   "execution_count": 8,
   "metadata": {
    "collapsed": false
   },
   "outputs": [
    {
     "name": "stdout",
     "output_type": "stream",
     "text": [
      "0.588235294118\n",
      "0.336282987086\n"
     ]
    }
   ],
   "source": [
    "print evaluate_grammar(gen_sp,verbose=False)\n",
    "print evaluate_content(gen_sp,dataset,speech_class,jk,jk_trend)"
   ]
  },
  {
   "cell_type": "code",
   "execution_count": null,
   "metadata": {
    "collapsed": true
   },
   "outputs": [],
   "source": []
  }
 ],
 "metadata": {
  "kernelspec": {
   "display_name": "Python 2",
   "language": "python",
   "name": "python2"
  },
  "language_info": {
   "codemirror_mode": {
    "name": "ipython",
    "version": 2
   },
   "file_extension": ".py",
   "mimetype": "text/x-python",
   "name": "python",
   "nbconvert_exporter": "python",
   "pygments_lexer": "ipython2",
   "version": "2.7.10"
  }
 },
 "nbformat": 4,
 "nbformat_minor": 0
}
